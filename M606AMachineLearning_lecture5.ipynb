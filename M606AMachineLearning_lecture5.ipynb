{
 "cells": [
  {
   "cell_type": "code",
   "execution_count": 1,
   "id": "1a6c103b-7553-4e6e-81dc-77b5205a9e1d",
   "metadata": {},
   "outputs": [],
   "source": [
    "## Linear Regression on `adult.csv`"
   ]
  },
  {
   "cell_type": "code",
   "execution_count": 2,
   "id": "2c16e78d-08d7-4c66-9f1e-16c48bc12ac3",
   "metadata": {},
   "outputs": [
    {
     "data": {
      "text/html": [
       "<div>\n",
       "<style scoped>\n",
       "    .dataframe tbody tr th:only-of-type {\n",
       "        vertical-align: middle;\n",
       "    }\n",
       "\n",
       "    .dataframe tbody tr th {\n",
       "        vertical-align: top;\n",
       "    }\n",
       "\n",
       "    .dataframe thead th {\n",
       "        text-align: right;\n",
       "    }\n",
       "</style>\n",
       "<table border=\"1\" class=\"dataframe\">\n",
       "  <thead>\n",
       "    <tr style=\"text-align: right;\">\n",
       "      <th></th>\n",
       "      <th>age</th>\n",
       "      <th>workclass</th>\n",
       "      <th>fnlwgt</th>\n",
       "      <th>education</th>\n",
       "      <th>education-num</th>\n",
       "      <th>marital-status</th>\n",
       "      <th>occupation</th>\n",
       "      <th>relationship</th>\n",
       "      <th>race</th>\n",
       "      <th>sex</th>\n",
       "      <th>capital-gain</th>\n",
       "      <th>capital-loss</th>\n",
       "      <th>hours-per-week</th>\n",
       "      <th>native-country</th>\n",
       "      <th>target</th>\n",
       "    </tr>\n",
       "  </thead>\n",
       "  <tbody>\n",
       "    <tr>\n",
       "      <th>0</th>\n",
       "      <td>39</td>\n",
       "      <td>State-gov</td>\n",
       "      <td>77516</td>\n",
       "      <td>Bachelors</td>\n",
       "      <td>13</td>\n",
       "      <td>Never-married</td>\n",
       "      <td>Adm-clerical</td>\n",
       "      <td>Not-in-family</td>\n",
       "      <td>White</td>\n",
       "      <td>Male</td>\n",
       "      <td>2174</td>\n",
       "      <td>0</td>\n",
       "      <td>40</td>\n",
       "      <td>United-States</td>\n",
       "      <td>&lt;=50K</td>\n",
       "    </tr>\n",
       "    <tr>\n",
       "      <th>1</th>\n",
       "      <td>50</td>\n",
       "      <td>Self-emp-not-inc</td>\n",
       "      <td>83311</td>\n",
       "      <td>Bachelors</td>\n",
       "      <td>13</td>\n",
       "      <td>Married-civ-spouse</td>\n",
       "      <td>Exec-managerial</td>\n",
       "      <td>Husband</td>\n",
       "      <td>White</td>\n",
       "      <td>Male</td>\n",
       "      <td>0</td>\n",
       "      <td>0</td>\n",
       "      <td>13</td>\n",
       "      <td>United-States</td>\n",
       "      <td>&lt;=50K</td>\n",
       "    </tr>\n",
       "    <tr>\n",
       "      <th>2</th>\n",
       "      <td>38</td>\n",
       "      <td>Private</td>\n",
       "      <td>215646</td>\n",
       "      <td>HS-grad</td>\n",
       "      <td>9</td>\n",
       "      <td>Divorced</td>\n",
       "      <td>Handlers-cleaners</td>\n",
       "      <td>Not-in-family</td>\n",
       "      <td>White</td>\n",
       "      <td>Male</td>\n",
       "      <td>0</td>\n",
       "      <td>0</td>\n",
       "      <td>40</td>\n",
       "      <td>United-States</td>\n",
       "      <td>&lt;=50K</td>\n",
       "    </tr>\n",
       "    <tr>\n",
       "      <th>3</th>\n",
       "      <td>53</td>\n",
       "      <td>Private</td>\n",
       "      <td>234721</td>\n",
       "      <td>11th</td>\n",
       "      <td>7</td>\n",
       "      <td>Married-civ-spouse</td>\n",
       "      <td>Handlers-cleaners</td>\n",
       "      <td>Husband</td>\n",
       "      <td>Black</td>\n",
       "      <td>Male</td>\n",
       "      <td>0</td>\n",
       "      <td>0</td>\n",
       "      <td>40</td>\n",
       "      <td>United-States</td>\n",
       "      <td>&lt;=50K</td>\n",
       "    </tr>\n",
       "    <tr>\n",
       "      <th>4</th>\n",
       "      <td>28</td>\n",
       "      <td>Private</td>\n",
       "      <td>338409</td>\n",
       "      <td>Bachelors</td>\n",
       "      <td>13</td>\n",
       "      <td>Married-civ-spouse</td>\n",
       "      <td>Prof-specialty</td>\n",
       "      <td>Wife</td>\n",
       "      <td>Black</td>\n",
       "      <td>Female</td>\n",
       "      <td>0</td>\n",
       "      <td>0</td>\n",
       "      <td>40</td>\n",
       "      <td>Cuba</td>\n",
       "      <td>&lt;=50K</td>\n",
       "    </tr>\n",
       "  </tbody>\n",
       "</table>\n",
       "</div>"
      ],
      "text/plain": [
       "   age          workclass  fnlwgt   education  education-num  \\\n",
       "0   39          State-gov   77516   Bachelors             13   \n",
       "1   50   Self-emp-not-inc   83311   Bachelors             13   \n",
       "2   38            Private  215646     HS-grad              9   \n",
       "3   53            Private  234721        11th              7   \n",
       "4   28            Private  338409   Bachelors             13   \n",
       "\n",
       "        marital-status          occupation    relationship    race      sex  \\\n",
       "0        Never-married        Adm-clerical   Not-in-family   White     Male   \n",
       "1   Married-civ-spouse     Exec-managerial         Husband   White     Male   \n",
       "2             Divorced   Handlers-cleaners   Not-in-family   White     Male   \n",
       "3   Married-civ-spouse   Handlers-cleaners         Husband   Black     Male   \n",
       "4   Married-civ-spouse      Prof-specialty            Wife   Black   Female   \n",
       "\n",
       "   capital-gain  capital-loss  hours-per-week  native-country  target  \n",
       "0          2174             0              40   United-States   <=50K  \n",
       "1             0             0              13   United-States   <=50K  \n",
       "2             0             0              40   United-States   <=50K  \n",
       "3             0             0              40   United-States   <=50K  \n",
       "4             0             0              40            Cuba   <=50K  "
      ]
     },
     "execution_count": 2,
     "metadata": {},
     "output_type": "execute_result"
    }
   ],
   "source": [
    "import pandas as pd\n",
    "\n",
    "df = pd.read_csv('adult.csv')\n",
    "df.head()"
   ]
  },
  {
   "cell_type": "code",
   "execution_count": 3,
   "id": "56ff5a28-ee17-4486-9783-2226fff2f2c9",
   "metadata": {},
   "outputs": [
    {
     "data": {
      "text/plain": [
       "age                int64\n",
       "workclass         object\n",
       "fnlwgt             int64\n",
       "education         object\n",
       "education-num      int64\n",
       "marital-status    object\n",
       "occupation        object\n",
       "relationship      object\n",
       "race              object\n",
       "sex               object\n",
       "capital-gain       int64\n",
       "capital-loss       int64\n",
       "hours-per-week     int64\n",
       "native-country    object\n",
       "target            object\n",
       "dtype: object"
      ]
     },
     "execution_count": 3,
     "metadata": {},
     "output_type": "execute_result"
    }
   ],
   "source": [
    "df.dtypes"
   ]
  },
  {
   "cell_type": "code",
   "execution_count": 4,
   "id": "b9e6b5b8-f067-4639-b8ee-0048728d4052",
   "metadata": {},
   "outputs": [],
   "source": [
    "### Explore the data"
   ]
  },
  {
   "cell_type": "code",
   "execution_count": 5,
   "id": "6c82401d-b21c-41ed-8191-84a37951ae82",
   "metadata": {},
   "outputs": [
    {
     "data": {
      "text/plain": [
       "<Axes: >"
      ]
     },
     "execution_count": 5,
     "metadata": {},
     "output_type": "execute_result"
    },
    {
     "data": {
      "image/png": "[encoded data removed]",
      "text/plain": [
       "<Figure size 640x480 with 1 Axes>"
      ]
     },
     "metadata": {},
     "output_type": "display_data"
    }
   ],
   "source": [
    "df['age'].hist()"
   ]
  },
  {
   "cell_type": "code",
   "execution_count": 6,
   "id": "86b7b4d3-7696-4031-bc68-0c65c3e12a52",
   "metadata": {},
   "outputs": [
    {
     "data": {
      "text/plain": [
       "<Axes: xlabel='target'>"
      ]
     },
     "execution_count": 6,
     "metadata": {},
     "output_type": "execute_result"
    },
    {
     "data": {
      "image/png": "[encoded data removed]",
      "text/plain": [
       "<Figure size 640x480 with 1 Axes>"
      ]
     },
     "metadata": {},
     "output_type": "display_data"
    }
   ],
   "source": [
    "df['target'].value_counts().plot(kind='bar')"
   ]
  },
  {
   "cell_type": "code",
   "execution_count": 7,
   "id": "5413b018-0821-447c-b68e-c64e0b8a6bc8",
   "metadata": {},
   "outputs": [
    {
     "data": {
      "text/plain": [
       "<Axes: xlabel='workclass'>"
      ]
     },
     "execution_count": 7,
     "metadata": {},
     "output_type": "execute_result"
    },
    {
     "data": {
      "image/png": "[encoded data removed]",
      "text/plain": [
       "<Figure size 640x480 with 1 Axes>"
      ]
     },
     "metadata": {},
     "output_type": "display_data"
    }
   ],
   "source": [
    "df['workclass'].value_counts().plot(kind='bar')"
   ]
  },
  {
   "cell_type": "code",
   "execution_count": 8,
   "id": "46c5ad15-0d26-4443-9432-b096a3754658",
   "metadata": {},
   "outputs": [
    {
     "data": {
      "text/plain": [
       "array([' State-gov', ' Self-emp-not-inc', ' Private', ' Federal-gov',\n",
       "       ' Local-gov', ' ?', ' Self-emp-inc', ' Without-pay',\n",
       "       ' Never-worked'], dtype=object)"
      ]
     },
     "execution_count": 8,
     "metadata": {},
     "output_type": "execute_result"
    }
   ],
   "source": [
    "df['workclass'].unique()"
   ]
  },
  {
   "cell_type": "code",
   "execution_count": 9,
   "id": "fc4a2a7d-bd1a-4512-b40d-f2a8cfb8f125",
   "metadata": {},
   "outputs": [],
   "source": [
    "### Remove the Missing Values"
   ]
  },
  {
   "cell_type": "code",
   "execution_count": 10,
   "id": "d0643ad5-bc12-4bef-a264-e9c4ce4396d8",
   "metadata": {},
   "outputs": [
    {
     "data": {
      "text/plain": [
       "array([' State-gov', ' Self-emp-not-inc', ' Private', ' Federal-gov',\n",
       "       ' Local-gov', 'Unknown', ' Self-emp-inc', ' Without-pay',\n",
       "       ' Never-worked'], dtype=object)"
      ]
     },
     "execution_count": 10,
     "metadata": {},
     "output_type": "execute_result"
    }
   ],
   "source": [
    "# replace ' ?' with 'Unknown'\n",
    "df['workclass'] = df['workclass'].replace(' ?', 'Unknown')\n",
    "df['workclass'].unique()"
   ]
  },
  {
   "cell_type": "code",
   "execution_count": 11,
   "id": "d6178881-4795-4961-b43f-50c04d4344f4",
   "metadata": {},
   "outputs": [],
   "source": [
    "### Splitting features and target label"
   ]
  },
  {
   "cell_type": "code",
   "execution_count": 12,
   "id": "e3abda60-c780-4e01-b7ef-17a7a07650d5",
   "metadata": {},
   "outputs": [
    {
     "name": "stdout",
     "output_type": "stream",
     "text": [
      "Shape of x = (32561, 14) and y = (32561,)\n"
     ]
    }
   ],
   "source": [
    "x = df.drop('target', axis=1)\n",
    "y = df['target']\n",
    "\n",
    "print(f\"Shape of x = {x.shape} and y = {y.shape}\")"
   ]
  },
  {
   "cell_type": "code",
   "execution_count": 13,
   "id": "ba26d7f7-6cca-4415-b5dc-1ab91b22db1c",
   "metadata": {},
   "outputs": [],
   "source": [
    "### Splitting training and testing data - 75 % for training 25 % for testing"
   ]
  },
  {
   "cell_type": "code",
   "execution_count": 14,
   "id": "f7d2090d-04e3-48cd-bb0d-db432a99846c",
   "metadata": {},
   "outputs": [
    {
     "name": "stdout",
     "output_type": "stream",
     "text": [
      "x_train: (24420, 14)\n",
      "x_test: (8141, 14)\n",
      "y_train: (24420,)\n",
      "y_test: (8141,)\n"
     ]
    }
   ],
   "source": [
    "from sklearn.model_selection import train_test_split\n",
    "\n",
    "x_train, x_test, y_train, y_test = train_test_split(x, y, test_size=0.25)\n",
    "\n",
    "print(f\"x_train: {x_train.shape}\")\n",
    "print(f\"x_test: {x_test.shape}\")\n",
    "print(f\"y_train: {y_train.shape}\")\n",
    "print(f\"y_test: {y_test.shape}\")"
   ]
  },
  {
   "cell_type": "code",
   "execution_count": 15,
   "id": "fffb6968-cf31-4d45-bb32-773177975ef2",
   "metadata": {},
   "outputs": [
    {
     "data": {
      "text/html": [
       "<div>\n",
       "<style scoped>\n",
       "    .dataframe tbody tr th:only-of-type {\n",
       "        vertical-align: middle;\n",
       "    }\n",
       "\n",
       "    .dataframe tbody tr th {\n",
       "        vertical-align: top;\n",
       "    }\n",
       "\n",
       "    .dataframe thead th {\n",
       "        text-align: right;\n",
       "    }\n",
       "</style>\n",
       "<table border=\"1\" class=\"dataframe\">\n",
       "  <thead>\n",
       "    <tr style=\"text-align: right;\">\n",
       "      <th></th>\n",
       "      <th>age</th>\n",
       "      <th>workclass</th>\n",
       "      <th>fnlwgt</th>\n",
       "      <th>education</th>\n",
       "      <th>education-num</th>\n",
       "      <th>marital-status</th>\n",
       "      <th>occupation</th>\n",
       "      <th>relationship</th>\n",
       "      <th>race</th>\n",
       "      <th>sex</th>\n",
       "      <th>capital-gain</th>\n",
       "      <th>capital-loss</th>\n",
       "      <th>hours-per-week</th>\n",
       "      <th>native-country</th>\n",
       "    </tr>\n",
       "  </thead>\n",
       "  <tbody>\n",
       "    <tr>\n",
       "      <th>18716</th>\n",
       "      <td>25</td>\n",
       "      <td>Local-gov</td>\n",
       "      <td>203408</td>\n",
       "      <td>Some-college</td>\n",
       "      <td>10</td>\n",
       "      <td>Married-civ-spouse</td>\n",
       "      <td>Other-service</td>\n",
       "      <td>Husband</td>\n",
       "      <td>White</td>\n",
       "      <td>Male</td>\n",
       "      <td>0</td>\n",
       "      <td>0</td>\n",
       "      <td>40</td>\n",
       "      <td>United-States</td>\n",
       "    </tr>\n",
       "    <tr>\n",
       "      <th>6578</th>\n",
       "      <td>51</td>\n",
       "      <td>Private</td>\n",
       "      <td>125796</td>\n",
       "      <td>11th</td>\n",
       "      <td>7</td>\n",
       "      <td>Separated</td>\n",
       "      <td>Other-service</td>\n",
       "      <td>Not-in-family</td>\n",
       "      <td>Black</td>\n",
       "      <td>Female</td>\n",
       "      <td>0</td>\n",
       "      <td>0</td>\n",
       "      <td>40</td>\n",
       "      <td>Jamaica</td>\n",
       "    </tr>\n",
       "    <tr>\n",
       "      <th>601</th>\n",
       "      <td>19</td>\n",
       "      <td>Private</td>\n",
       "      <td>217039</td>\n",
       "      <td>Some-college</td>\n",
       "      <td>10</td>\n",
       "      <td>Never-married</td>\n",
       "      <td>Adm-clerical</td>\n",
       "      <td>Own-child</td>\n",
       "      <td>White</td>\n",
       "      <td>Male</td>\n",
       "      <td>0</td>\n",
       "      <td>0</td>\n",
       "      <td>28</td>\n",
       "      <td>United-States</td>\n",
       "    </tr>\n",
       "    <tr>\n",
       "      <th>2492</th>\n",
       "      <td>26</td>\n",
       "      <td>Private</td>\n",
       "      <td>181666</td>\n",
       "      <td>HS-grad</td>\n",
       "      <td>9</td>\n",
       "      <td>Never-married</td>\n",
       "      <td>Handlers-cleaners</td>\n",
       "      <td>Own-child</td>\n",
       "      <td>White</td>\n",
       "      <td>Female</td>\n",
       "      <td>0</td>\n",
       "      <td>0</td>\n",
       "      <td>40</td>\n",
       "      <td>United-States</td>\n",
       "    </tr>\n",
       "    <tr>\n",
       "      <th>3917</th>\n",
       "      <td>19</td>\n",
       "      <td>Private</td>\n",
       "      <td>251579</td>\n",
       "      <td>Some-college</td>\n",
       "      <td>10</td>\n",
       "      <td>Never-married</td>\n",
       "      <td>Other-service</td>\n",
       "      <td>Own-child</td>\n",
       "      <td>White</td>\n",
       "      <td>Male</td>\n",
       "      <td>0</td>\n",
       "      <td>0</td>\n",
       "      <td>14</td>\n",
       "      <td>United-States</td>\n",
       "    </tr>\n",
       "  </tbody>\n",
       "</table>\n",
       "</div>"
      ],
      "text/plain": [
       "       age   workclass  fnlwgt      education  education-num  \\\n",
       "18716   25   Local-gov  203408   Some-college             10   \n",
       "6578    51     Private  125796           11th              7   \n",
       "601     19     Private  217039   Some-college             10   \n",
       "2492    26     Private  181666        HS-grad              9   \n",
       "3917    19     Private  251579   Some-college             10   \n",
       "\n",
       "            marital-status          occupation    relationship    race  \\\n",
       "18716   Married-civ-spouse       Other-service         Husband   White   \n",
       "6578             Separated       Other-service   Not-in-family   Black   \n",
       "601          Never-married        Adm-clerical       Own-child   White   \n",
       "2492         Never-married   Handlers-cleaners       Own-child   White   \n",
       "3917         Never-married       Other-service       Own-child   White   \n",
       "\n",
       "           sex  capital-gain  capital-loss  hours-per-week  native-country  \n",
       "18716     Male             0             0              40   United-States  \n",
       "6578    Female             0             0              40         Jamaica  \n",
       "601       Male             0             0              28   United-States  \n",
       "2492    Female             0             0              40   United-States  \n",
       "3917      Male             0             0              14   United-States  "
      ]
     },
     "execution_count": 15,
     "metadata": {},
     "output_type": "execute_result"
    }
   ],
   "source": [
    "x_train.head()"
   ]
  },
  {
   "cell_type": "code",
   "execution_count": 16,
   "id": "5e6abd64-56bd-4862-a2b7-6bef22dcbd29",
   "metadata": {},
   "outputs": [
    {
     "data": {
      "text/html": [
       "<div>\n",
       "<style scoped>\n",
       "    .dataframe tbody tr th:only-of-type {\n",
       "        vertical-align: middle;\n",
       "    }\n",
       "\n",
       "    .dataframe tbody tr th {\n",
       "        vertical-align: top;\n",
       "    }\n",
       "\n",
       "    .dataframe thead th {\n",
       "        text-align: right;\n",
       "    }\n",
       "</style>\n",
       "<table border=\"1\" class=\"dataframe\">\n",
       "  <thead>\n",
       "    <tr style=\"text-align: right;\">\n",
       "      <th></th>\n",
       "      <th>age</th>\n",
       "      <th>workclass</th>\n",
       "      <th>fnlwgt</th>\n",
       "      <th>education</th>\n",
       "      <th>education-num</th>\n",
       "      <th>marital-status</th>\n",
       "      <th>occupation</th>\n",
       "      <th>relationship</th>\n",
       "      <th>race</th>\n",
       "      <th>sex</th>\n",
       "      <th>capital-gain</th>\n",
       "      <th>capital-loss</th>\n",
       "      <th>hours-per-week</th>\n",
       "      <th>native-country</th>\n",
       "    </tr>\n",
       "  </thead>\n",
       "  <tbody>\n",
       "    <tr>\n",
       "      <th>4013</th>\n",
       "      <td>20</td>\n",
       "      <td>Private</td>\n",
       "      <td>145917</td>\n",
       "      <td>Some-college</td>\n",
       "      <td>10</td>\n",
       "      <td>Never-married</td>\n",
       "      <td>Adm-clerical</td>\n",
       "      <td>Own-child</td>\n",
       "      <td>White</td>\n",
       "      <td>Female</td>\n",
       "      <td>0</td>\n",
       "      <td>0</td>\n",
       "      <td>15</td>\n",
       "      <td>United-States</td>\n",
       "    </tr>\n",
       "    <tr>\n",
       "      <th>9742</th>\n",
       "      <td>64</td>\n",
       "      <td>Private</td>\n",
       "      <td>265661</td>\n",
       "      <td>HS-grad</td>\n",
       "      <td>9</td>\n",
       "      <td>Married-civ-spouse</td>\n",
       "      <td>Transport-moving</td>\n",
       "      <td>Husband</td>\n",
       "      <td>White</td>\n",
       "      <td>Male</td>\n",
       "      <td>0</td>\n",
       "      <td>0</td>\n",
       "      <td>40</td>\n",
       "      <td>United-States</td>\n",
       "    </tr>\n",
       "    <tr>\n",
       "      <th>27779</th>\n",
       "      <td>50</td>\n",
       "      <td>Private</td>\n",
       "      <td>163671</td>\n",
       "      <td>HS-grad</td>\n",
       "      <td>9</td>\n",
       "      <td>Married-civ-spouse</td>\n",
       "      <td>Craft-repair</td>\n",
       "      <td>Husband</td>\n",
       "      <td>White</td>\n",
       "      <td>Male</td>\n",
       "      <td>0</td>\n",
       "      <td>0</td>\n",
       "      <td>40</td>\n",
       "      <td>United-States</td>\n",
       "    </tr>\n",
       "    <tr>\n",
       "      <th>13005</th>\n",
       "      <td>44</td>\n",
       "      <td>Private</td>\n",
       "      <td>116825</td>\n",
       "      <td>Prof-school</td>\n",
       "      <td>15</td>\n",
       "      <td>Married-civ-spouse</td>\n",
       "      <td>Prof-specialty</td>\n",
       "      <td>Husband</td>\n",
       "      <td>White</td>\n",
       "      <td>Male</td>\n",
       "      <td>15024</td>\n",
       "      <td>0</td>\n",
       "      <td>80</td>\n",
       "      <td>United-States</td>\n",
       "    </tr>\n",
       "    <tr>\n",
       "      <th>2138</th>\n",
       "      <td>46</td>\n",
       "      <td>Private</td>\n",
       "      <td>27669</td>\n",
       "      <td>HS-grad</td>\n",
       "      <td>9</td>\n",
       "      <td>Never-married</td>\n",
       "      <td>Other-service</td>\n",
       "      <td>Not-in-family</td>\n",
       "      <td>White</td>\n",
       "      <td>Female</td>\n",
       "      <td>0</td>\n",
       "      <td>0</td>\n",
       "      <td>28</td>\n",
       "      <td>United-States</td>\n",
       "    </tr>\n",
       "  </tbody>\n",
       "</table>\n",
       "</div>"
      ],
      "text/plain": [
       "       age workclass  fnlwgt      education  education-num  \\\n",
       "4013    20   Private  145917   Some-college             10   \n",
       "9742    64   Private  265661        HS-grad              9   \n",
       "27779   50   Private  163671        HS-grad              9   \n",
       "13005   44   Private  116825    Prof-school             15   \n",
       "2138    46   Private   27669        HS-grad              9   \n",
       "\n",
       "            marital-status         occupation    relationship    race  \\\n",
       "4013         Never-married       Adm-clerical       Own-child   White   \n",
       "9742    Married-civ-spouse   Transport-moving         Husband   White   \n",
       "27779   Married-civ-spouse       Craft-repair         Husband   White   \n",
       "13005   Married-civ-spouse     Prof-specialty         Husband   White   \n",
       "2138         Never-married      Other-service   Not-in-family   White   \n",
       "\n",
       "           sex  capital-gain  capital-loss  hours-per-week  native-country  \n",
       "4013    Female             0             0              15   United-States  \n",
       "9742      Male             0             0              40   United-States  \n",
       "27779     Male             0             0              40   United-States  \n",
       "13005     Male         15024             0              80   United-States  \n",
       "2138    Female             0             0              28   United-States  "
      ]
     },
     "execution_count": 16,
     "metadata": {},
     "output_type": "execute_result"
    }
   ],
   "source": [
    "x_test.head()"
   ]
  },
  {
   "cell_type": "code",
   "execution_count": 17,
   "id": "c6182ff2-59a2-46ae-bbb2-07a3dcaced90",
   "metadata": {},
   "outputs": [],
   "source": [
    "### Standardize the data"
   ]
  },
  {
   "cell_type": "code",
   "execution_count": 18,
   "id": "1c1b0d1d-81d5-4787-9eec-757053331c2f",
   "metadata": {},
   "outputs": [
    {
     "data": {
      "text/plain": [
       "(<Compressed Sparse Row sparse matrix of dtype 'float64'\n",
       " \twith 341880 stored elements and shape (24420, 108)>,\n",
       " <Compressed Sparse Row sparse matrix of dtype 'float64'\n",
       " \twith 113974 stored elements and shape (8141, 108)>)"
      ]
     },
     "execution_count": 18,
     "metadata": {},
     "output_type": "execute_result"
    }
   ],
   "source": [
    "# Column Transformation\n",
    "from sklearn.compose import ColumnTransformer\n",
    "from sklearn.preprocessing import StandardScaler, OneHotEncoder\n",
    "\n",
    "numerical_attributes = x_train.select_dtypes(include=['int64', 'float64']).columns\n",
    "categorical_attributes = x_train.select_dtypes(include=['object']).columns\n",
    "\n",
    "ct = ColumnTransformer([\n",
    "    ('standar_sclaer', StandardScaler(), numerical_attributes),\n",
    "    ('one_hot_encoder', OneHotEncoder(handle_unknown='ignore'), categorical_attributes)\n",
    "]).fit(x_train)\n",
    "\n",
    "transformed_x_train = ct.transform(x_train)\n",
    "transformed_x_test = ct.transform(x_test)\n",
    "\n",
    "transformed_x_train, transformed_x_test"
   ]
  },
  {
   "cell_type": "code",
   "execution_count": 19,
   "id": "0ce05fa8-8d96-4aa3-af4d-567fa553020c",
   "metadata": {},
   "outputs": [],
   "source": [
    "### Dimensionality Reduction using PCA"
   ]
  },
  {
   "cell_type": "code",
   "execution_count": 20,
   "id": "78089d31-3d5b-41cb-8e72-93f0738bb5ae",
   "metadata": {},
   "outputs": [],
   "source": [
    "from sklearn.decomposition import PCA\n",
    "\n",
    "pca = PCA(n_components=2)\n",
    "pca.fit(transformed_x_train)\n",
    "\n",
    "x_train_pca = pca.transform(transformed_x_train)\n",
    "x_test_pca = pca.transform(transformed_x_test)"
   ]
  },
  {
   "cell_type": "code",
   "execution_count": 21,
   "id": "4f0807ea-9043-4024-be5b-913abd68561b",
   "metadata": {},
   "outputs": [
    {
     "data": {
      "text/plain": [
       "(array([[-0.17458034,  0.21496717],\n",
       "        [-0.57716495, -1.27143308],\n",
       "        [-1.74362682,  0.96265174],\n",
       "        ...,\n",
       "        [ 0.07798842, -0.6803622 ],\n",
       "        [-0.8433559 , -1.26657603],\n",
       "        [-0.05739758, -0.28053477]]),\n",
       " array([[-2.38677591,  0.86823699],\n",
       "        [ 0.93891107, -1.69690466],\n",
       "        [ 0.57858846, -1.28822985],\n",
       "        ...,\n",
       "        [-0.57648446, -0.93817307],\n",
       "        [-0.94329821,  0.13740886],\n",
       "        [-0.34576418, -0.33159457]]))"
      ]
     },
     "execution_count": 21,
     "metadata": {},
     "output_type": "execute_result"
    }
   ],
   "source": [
    "x_train_pca, x_test_pca"
   ]
  },
  {
   "cell_type": "code",
   "execution_count": 22,
   "id": "9cd1fd8b-0d2b-423c-ab94-4a9a0ca5e52d",
   "metadata": {},
   "outputs": [],
   "source": [
    "### Linear and Logistic Regression"
   ]
  },
  {
   "cell_type": "code",
   "execution_count": 25,
   "id": "1cf0549a-cc60-4cff-a1d2-57e53f5739ba",
   "metadata": {},
   "outputs": [
    {
     "name": "stdout",
     "output_type": "stream",
     "text": [
      "Linear Regression R² Score: 0.35774656107372826\n",
      "Logistic Regression Accuracy: 0.8541948163616263\n"
     ]
    }
   ],
   "source": [
    "# Combined Code Cell for Linear and Logistic Regression\n",
    "\n",
    "from sklearn.linear_model import LinearRegression, LogisticRegression\n",
    "from sklearn.preprocessing import LabelEncoder\n",
    "from sklearn.metrics import accuracy_score, r2_score\n",
    "\n",
    "# Step 1: Encode the target variable if it's categorical\n",
    "label_encoder = LabelEncoder()\n",
    "y_train_encoded = label_encoder.fit_transform(y_train)\n",
    "y_test_encoded = label_encoder.transform(y_test)\n",
    "\n",
    "# Step 2: Initialize the models\n",
    "linear_regression = LinearRegression()\n",
    "logistic_regression = LogisticRegression(max_iter=1000)\n",
    "\n",
    "# Step 3: Fit the models on the training data\n",
    "linear_regression.fit(transformed_x_train, y_train_encoded)\n",
    "logistic_regression.fit(transformed_x_train, y_train_encoded)\n",
    "\n",
    "# Step 4: Make predictions on the test data\n",
    "y_test_pred_linear = linear_regression.predict(transformed_x_test)\n",
    "y_test_pred_logistic = logistic_regression.predict(transformed_x_test)\n",
    "\n",
    "# Step 5: Evaluate the models\n",
    "# For linear regression, we compute the R² score (note: this is not typical for classification)\n",
    "r2 = r2_score(y_test_encoded, y_test_pred_linear)\n",
    "print(\"Linear Regression R² Score:\", r2)\n",
    "\n",
    "# For logistic regression, we compute the accuracy score\n",
    "accuracy = accuracy_score(y_test_encoded, y_test_pred_logistic)\n",
    "print(\"Logistic Regression Accuracy:\", accuracy)\n"
   ]
  },
  {
   "cell_type": "code",
   "execution_count": 28,
   "id": "824e32df-3cdc-437b-9501-f589d8f0ae7f",
   "metadata": {},
   "outputs": [
    {
     "name": "stdout",
     "output_type": "stream",
     "text": [
      "Mean Absolute Error (MAE): 0.262123989893261\n",
      "Mean Squared Error (MSE): 0.11469965802817421\n",
      "R-squared (R²): 0.35774656107372826\n"
     ]
    }
   ],
   "source": [
    "# Combined code cell for Linear Regression with target encoding and metric evaluation\n",
    "\n",
    "from sklearn.linear_model import LinearRegression\n",
    "from sklearn.preprocessing import LabelEncoder\n",
    "from sklearn.metrics import mean_absolute_error, mean_squared_error, r2_score\n",
    "\n",
    "# Step 1: Encode the target variable (if it's categorical)\n",
    "label_encoder = LabelEncoder()\n",
    "y_train_encoded = label_encoder.fit_transform(y_train)\n",
    "y_test_encoded = label_encoder.transform(y_test)\n",
    "\n",
    "# Step 2: Initialize and fit the Linear Regression model\n",
    "linear_regression = LinearRegression()\n",
    "linear_regression.fit(transformed_x_train, y_train_encoded)\n",
    "\n",
    "# Step 3: Make predictions on the test set\n",
    "y_test_pred_linear = linear_regression.predict(transformed_x_test)\n",
    "\n",
    "# Optionally, if your task is classification and you want discrete predictions, you can round the predictions:\n",
    "# y_test_pred_linear_discrete = [round(pred) for pred in y_test_pred_linear]\n",
    "\n",
    "# Step 4: Evaluate the model using regression metrics (using the encoded y_test)\n",
    "mae = mean_absolute_error(y_test_encoded, y_test_pred_linear)\n",
    "mse = mean_squared_error(y_test_encoded, y_test_pred_linear)\n",
    "r2 = r2_score(y_test_encoded, y_test_pred_linear)\n",
    "\n",
    "print(f\"Mean Absolute Error (MAE): {mae}\")\n",
    "print(f\"Mean Squared Error (MSE): {mse}\")\n",
    "print(f\"R-squared (R²): {r2}\")\n"
   ]
  },
  {
   "cell_type": "code",
   "execution_count": 30,
   "id": "61e55fcd-bdfc-4de1-9239-1852f115a744",
   "metadata": {},
   "outputs": [
    {
     "name": "stdout",
     "output_type": "stream",
     "text": [
      "Evaluation using encoded labels:\n",
      "Accuracy: 0.8541948163616263\n",
      "Confusion Matrix:\n",
      "[[5822  424]\n",
      " [ 763 1132]]\n",
      "Classification Report:\n",
      "              precision    recall  f1-score   support\n",
      "\n",
      "           0       0.88      0.93      0.91      6246\n",
      "           1       0.73      0.60      0.66      1895\n",
      "\n",
      "    accuracy                           0.85      8141\n",
      "   macro avg       0.81      0.76      0.78      8141\n",
      "weighted avg       0.85      0.85      0.85      8141\n",
      "\n"
     ]
    }
   ],
   "source": [
    "from sklearn.metrics import accuracy_score, classification_report, confusion_matrix\n",
    "\n",
    "# Evaluate the model using encoded true labels\n",
    "accuracy = accuracy_score(y_test_encoded, y_test_pred_logistic)\n",
    "conf_matrix = confusion_matrix(y_test_encoded, y_test_pred_logistic)\n",
    "class_report = classification_report(y_test_encoded, y_test_pred_logistic)\n",
    "\n",
    "print(\"Evaluation using encoded labels:\")\n",
    "print(f\"Accuracy: {accuracy}\")\n",
    "print(f\"Confusion Matrix:\\n{conf_matrix}\")\n",
    "print(f\"Classification Report:\\n{class_report}\")\n"
   ]
  },
  {
   "cell_type": "code",
   "execution_count": null,
   "id": "e6b33c46-9952-4f5f-818b-58b5c08c8159",
   "metadata": {},
   "outputs": [],
   "source": [
    "### Naive Bayes"
   ]
  },
  {
   "cell_type": "code",
   "execution_count": 31,
   "id": "0f96d168-7412-496f-b11b-ad12af788d24",
   "metadata": {},
   "outputs": [],
   "source": [
    "from sklearn.naive_bayes import GaussianNB\n",
    "from sklearn.metrics import accuracy_score, classification_report, confusion_matrix\n",
    "\n",
    "# Initialize the Naive Bayes model\n",
    "naive_bayes = GaussianNB()\n",
    "\n",
    "# Fit the model to your training data\n",
    "naive_bayes.fit(transformed_x_train.toarray(), y_train)\n",
    "\n",
    "# Make predictions using the fitted model\n",
    "y_test_pred_naive_bayes = naive_bayes.predict(transformed_x_test.toarray())"
   ]
  },
  {
   "cell_type": "code",
   "execution_count": 32,
   "id": "c5001783-a416-40c8-9f4a-e466256c3187",
   "metadata": {},
   "outputs": [
    {
     "name": "stdout",
     "output_type": "stream",
     "text": [
      "Accuracy: 0.5042378086230193\n",
      "Confusion Matrix:\n",
      "[[2291 3955]\n",
      " [  81 1814]]\n",
      "Classification Report:\n",
      "              precision    recall  f1-score   support\n",
      "\n",
      "       <=50K       0.97      0.37      0.53      6246\n",
      "        >50K       0.31      0.96      0.47      1895\n",
      "\n",
      "    accuracy                           0.50      8141\n",
      "   macro avg       0.64      0.66      0.50      8141\n",
      "weighted avg       0.81      0.50      0.52      8141\n",
      "\n"
     ]
    }
   ],
   "source": [
    "# Evaluate the model\n",
    "accuracy = accuracy_score(y_test, y_test_pred_naive_bayes)\n",
    "conf_matrix = confusion_matrix(y_test, y_test_pred_naive_bayes)\n",
    "class_report = classification_report(y_test, y_test_pred_naive_bayes)\n",
    "\n",
    "print(f\"Accuracy: {accuracy}\")\n",
    "print(\"Confusion Matrix:\")\n",
    "print(conf_matrix)\n",
    "print(\"Classification Report:\")\n",
    "print(class_report)"
   ]
  },
  {
   "cell_type": "code",
   "execution_count": null,
   "id": "bb71c1c3-b58c-4480-8c8f-0bdbb76de3eb",
   "metadata": {},
   "outputs": [],
   "source": [
    "### SVM"
   ]
  },
  {
   "cell_type": "code",
   "execution_count": 33,
   "id": "e90a57b1-7f85-4a8e-9c52-cbd959614896",
   "metadata": {},
   "outputs": [
    {
     "name": "stdout",
     "output_type": "stream",
     "text": [
      "Accuracy: 0.8581255374032674\n",
      "Confusion Matrix:\n",
      "[[5892  354]\n",
      " [ 801 1094]]\n",
      "Classification Report:\n",
      "              precision    recall  f1-score   support\n",
      "\n",
      "       <=50K       0.88      0.94      0.91      6246\n",
      "        >50K       0.76      0.58      0.65      1895\n",
      "\n",
      "    accuracy                           0.86      8141\n",
      "   macro avg       0.82      0.76      0.78      8141\n",
      "weighted avg       0.85      0.86      0.85      8141\n",
      "\n"
     ]
    }
   ],
   "source": [
    "from sklearn.svm import SVC\n",
    "\n",
    "# Initialize the SVM classifier\n",
    "svm_classifier = SVC()\n",
    "\n",
    "# Fit the classifier to your transformed training data\n",
    "svm_classifier.fit(transformed_x_train, y_train)\n",
    "\n",
    "# Make predictions using the fitted classifier\n",
    "y_test_pred_svm = svm_classifier.predict(transformed_x_test)\n",
    "\n",
    "# Evaluate the model\n",
    "accuracy = accuracy_score(y_test, y_test_pred_svm)\n",
    "conf_matrix = confusion_matrix(y_test, y_test_pred_svm)\n",
    "class_report = classification_report(y_test, y_test_pred_svm)\n",
    "\n",
    "print(f\"Accuracy: {accuracy}\")\n",
    "print(\"Confusion Matrix:\")\n",
    "print(conf_matrix)\n",
    "print(\"Classification Report:\")\n",
    "print(class_report)"
   ]
  },
  {
   "cell_type": "code",
   "execution_count": 34,
   "id": "ce818e60-8852-4ba5-90be-80f48d39b7f7",
   "metadata": {},
   "outputs": [
    {
     "name": "stdout",
     "output_type": "stream",
     "text": [
      "Accuracy: 0.8177128116938951\n",
      "Confusion Matrix:\n",
      "[[5479  767]\n",
      " [ 717 1178]]\n",
      "Classification Report:\n",
      "              precision    recall  f1-score   support\n",
      "\n",
      "       <=50K       0.88      0.88      0.88      6246\n",
      "        >50K       0.61      0.62      0.61      1895\n",
      "\n",
      "    accuracy                           0.82      8141\n",
      "   macro avg       0.74      0.75      0.75      8141\n",
      "weighted avg       0.82      0.82      0.82      8141\n",
      "\n"
     ]
    }
   ],
   "source": [
    "from sklearn.tree import DecisionTreeClassifier\n",
    "from sklearn.metrics import accuracy_score, classification_report, confusion_matrix\n",
    "\n",
    "# Initialize the Decision Tree Classifier\n",
    "decision_tree = DecisionTreeClassifier()\n",
    "\n",
    "# Fit the classifier to your transformed training data\n",
    "decision_tree.fit(transformed_x_train, y_train)\n",
    "\n",
    "# Make predictions using the fitted classifier\n",
    "y_test_pred_dt = decision_tree.predict(transformed_x_test)\n",
    "\n",
    "# Evaluate the model\n",
    "accuracy = accuracy_score(y_test, y_test_pred_dt)\n",
    "conf_matrix = confusion_matrix(y_test, y_test_pred_dt)\n",
    "class_report = classification_report(y_test, y_test_pred_dt)\n",
    "\n",
    "print(f\"Accuracy: {accuracy}\")\n",
    "print(\"Confusion Matrix:\")\n",
    "print(conf_matrix)\n",
    "print(\"Classification Report:\")\n",
    "print(class_report)\n"
   ]
  },
  {
   "cell_type": "code",
   "execution_count": 35,
   "id": "5c253cac-ac49-4ad1-becf-5203445281d1",
   "metadata": {},
   "outputs": [
    {
     "name": "stdout",
     "output_type": "stream",
     "text": [
      "Accuracy: 0.8352782213487286\n",
      "Confusion Matrix:\n",
      "[[5680  566]\n",
      " [ 775 1120]]\n",
      "Classification Report:\n",
      "              precision    recall  f1-score   support\n",
      "\n",
      "       <=50K       0.88      0.91      0.89      6246\n",
      "        >50K       0.66      0.59      0.63      1895\n",
      "\n",
      "    accuracy                           0.84      8141\n",
      "   macro avg       0.77      0.75      0.76      8141\n",
      "weighted avg       0.83      0.84      0.83      8141\n",
      "\n"
     ]
    }
   ],
   "source": [
    "from sklearn.neighbors import KNeighborsClassifier\n",
    "from sklearn.metrics import accuracy_score, classification_report, confusion_matrix\n",
    "\n",
    "# Initialize the kNN classifier with a chosen number of neighbors (e.g., 5)\n",
    "knn_classifier = KNeighborsClassifier(n_neighbors=5)\n",
    "\n",
    "# Fit the classifier to your transformed training data\n",
    "knn_classifier.fit(transformed_x_train, y_train)\n",
    "\n",
    "# Make predictions using the fitted classifier\n",
    "y_test_pred_knn = knn_classifier.predict(transformed_x_test)\n",
    "\n",
    "# Evaluate the model\n",
    "accuracy = accuracy_score(y_test, y_test_pred_knn)\n",
    "conf_matrix = confusion_matrix(y_test, y_test_pred_knn)\n",
    "class_report = classification_report(y_test, y_test_pred_knn)\n",
    "\n",
    "print(f\"Accuracy: {accuracy}\")\n",
    "print(\"Confusion Matrix:\")\n",
    "print(conf_matrix)\n",
    "print(\"Classification Report:\")\n",
    "print(class_report)\n"
   ]
  },
  {
   "cell_type": "code",
   "execution_count": null,
   "id": "369bf56d-3d6f-49fa-a2a7-cbaa5aa22313",
   "metadata": {},
   "outputs": [],
   "source": [
    "### Comparing the performance of different models"
   ]
  },
  {
   "cell_type": "code",
   "execution_count": 37,
   "id": "47ff8818-8d32-463d-9a83-730af1654ab8",
   "metadata": {},
   "outputs": [
    {
     "name": "stdout",
     "output_type": "stream",
     "text": [
      "Accuracy for Linear Regression (after thresholding): 0.8412971379437415\n",
      "Accuracy for Logistic Regression: 0.8541948163616263\n",
      "Accuracy for Naive Bayes: 0.5042378086230193\n",
      "Accuracy for SVM: 0.8581255374032674\n",
      "Accuracy for Decision Tree: 0.8189411620194079\n",
      "Accuracy for kNN: 0.8352782213487286\n"
     ]
    }
   ],
   "source": [
    "# Combined Code Cell for Multiple Models with Label Encoding\n",
    "\n",
    "from sklearn.linear_model import LinearRegression, LogisticRegression\n",
    "from sklearn.naive_bayes import GaussianNB\n",
    "from sklearn.svm import SVC\n",
    "from sklearn.tree import DecisionTreeClassifier\n",
    "from sklearn.neighbors import KNeighborsClassifier\n",
    "from sklearn.metrics import accuracy_score\n",
    "from sklearn.preprocessing import LabelEncoder\n",
    "\n",
    "# Step 1: Encode the target labels (assuming y_train and y_test are strings)\n",
    "label_encoder = LabelEncoder()\n",
    "y_train_encoded = label_encoder.fit_transform(y_train)\n",
    "y_test_encoded = label_encoder.transform(y_test)\n",
    "\n",
    "# Step 2: Initialize the models\n",
    "linear_regression = LinearRegression()\n",
    "logistic_regression = LogisticRegression(max_iter=1000)\n",
    "naive_bayes = GaussianNB()\n",
    "svm_classifier = SVC()\n",
    "decision_tree_classifier = DecisionTreeClassifier()  # Fixed spelling: decision_tree_classifier\n",
    "knn_classifier = KNeighborsClassifier()\n",
    "\n",
    "# Step 3: Fit the models\n",
    "linear_regression.fit(transformed_x_train, y_train_encoded)\n",
    "logistic_regression.fit(transformed_x_train, y_train_encoded)\n",
    "naive_bayes.fit(transformed_x_train.toarray(), y_train_encoded)  # Convert to dense if needed\n",
    "svm_classifier.fit(transformed_x_train, y_train_encoded)\n",
    "decision_tree_classifier.fit(transformed_x_train, y_train_encoded)\n",
    "knn_classifier.fit(transformed_x_train, y_train_encoded)\n",
    "\n",
    "# Step 4: Make predictions on the test set\n",
    "y_test_pred_linear = linear_regression.predict(transformed_x_test)\n",
    "y_test_pred_logistic = logistic_regression.predict(transformed_x_test)\n",
    "y_test_pred_naive_bayes = naive_bayes.predict(transformed_x_test.toarray())\n",
    "y_test_pred_svm = svm_classifier.predict(transformed_x_test)\n",
    "y_test_pred_decision_tree = decision_tree_classifier.predict(transformed_x_test)\n",
    "y_test_pred_knn = knn_classifier.predict(transformed_x_test)\n",
    "\n",
    "# For Linear Regression, threshold predictions (e.g., 0.5) to convert continuous output to binary classes\n",
    "y_test_pred_linear_binary = (y_test_pred_linear > 0.5).astype(int)\n",
    "\n",
    "# Step 5: Evaluate the models using accuracy\n",
    "accuracy_linear = accuracy_score(y_test_encoded, y_test_pred_linear_binary)\n",
    "accuracy_logistic = accuracy_score(y_test_encoded, y_test_pred_logistic)\n",
    "accuracy_naive_bayes = accuracy_score(y_test_encoded, y_test_pred_naive_bayes)\n",
    "accuracy_svm = accuracy_score(y_test_encoded, y_test_pred_svm)\n",
    "accuracy_decision_tree = accuracy_score(y_test_encoded, y_test_pred_decision_tree)\n",
    "accuracy_knn = accuracy_score(y_test_encoded, y_test_pred_knn)\n",
    "\n",
    "# Print the accuracies\n",
    "print(\"Accuracy for Linear Regression (after thresholding):\", accuracy_linear)\n",
    "print(\"Accuracy for Logistic Regression:\", accuracy_logistic)\n",
    "print(\"Accuracy for Naive Bayes:\", accuracy_naive_bayes)\n",
    "print(\"Accuracy for SVM:\", accuracy_svm)\n",
    "print(\"Accuracy for Decision Tree:\", accuracy_decision_tree)\n",
    "print(\"Accuracy for kNN:\", accuracy_knn)\n"
   ]
  },
  {
   "cell_type": "code",
   "execution_count": 38,
   "id": "dce810a5-71a3-45ed-9aae-5aa72b3baf44",
   "metadata": {},
   "outputs": [
    {
     "data": {
      "image/png": "[encoded data removed]",
      "text/plain": [
       "<Figure size 1000x600 with 1 Axes>"
      ]
     },
     "metadata": {},
     "output_type": "display_data"
    }
   ],
   "source": [
    "# Plot the accuracies\n",
    "import matplotlib.pyplot as plt\n",
    "\n",
    "models = ['Linear Regression', 'Logistic Regression', 'Naive Bayes', 'SVM', 'Decision Tree', 'KNN']\n",
    "accuracies = list(map(lambda x: round(x * 100, 2), [accuracy_linear, accuracy_logistic, accuracy_naive_bayes, accuracy_svm, accuracy_decision_tree, accuracy_knn]))\n",
    "\n",
    "plt.figure(figsize=(10, 6))\n",
    "plt.bar(models, accuracies, color=['blue', 'skyblue', 'orange', 'green', 'red', 'purple'])\n",
    "plt.ylabel('Accuracy')\n",
    "plt.ylim(0, 100)\n",
    "plt.title('Model Comparison')\n",
    "plt.show()"
   ]
  },
  {
   "cell_type": "code",
   "execution_count": null,
   "id": "aedbdd2c-8b01-492d-a21e-cdcc991a8e37",
   "metadata": {},
   "outputs": [],
   "source": []
  }
 ],
 "metadata": {
  "kernelspec": {
   "display_name": "Python 3 (ipykernel)",
   "language": "python",
   "name": "python3"
  },
  "language_info": {
   "codemirror_mode": {
    "name": "ipython",
    "version": 3
   },
   "file_extension": ".py",
   "mimetype": "text/x-python",
   "name": "python",
   "nbconvert_exporter": "python",
   "pygments_lexer": "ipython3",
   "version": "3.11.9"
  }
 },
 "nbformat": 4,
 "nbformat_minor": 5
}
